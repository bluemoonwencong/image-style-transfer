{
 "cells": [
  {
   "cell_type": "code",
   "execution_count": 3,
   "metadata": {},
   "outputs": [],
   "source": [
    "import numpy as np\n",
    "import tensorflow as tf\n",
    "from vgg19_v26 import vgg19\n",
    "import matplotlib.pyplot as plt\n",
    "import os\n",
    "from PIL import Image\n",
    "from PIL import ImageEnhance\n",
    "from tqdm import tqdm"
   ]
  },
  {
   "cell_type": "code",
   "execution_count": 4,
   "metadata": {},
   "outputs": [],
   "source": [
    "img_H,img_W,img_C = 500, 800, 3\n",
    "vgg19net = vgg19(trainable=False)\n",
    "img = tf.get_variable(name='wanted', shape=(1,img_H,img_W,img_C))\n",
    "vgg19net.inference(img, 1000)\n",
    "sess = tf.Session()\n",
    "sess.run(tf.global_variables_initializer())"
   ]
  },
  {
   "cell_type": "code",
   "execution_count": 8,
   "metadata": {},
   "outputs": [],
   "source": [
    "# for i,v in enumerate(tf.global_variables()):\n",
    "#     print('trainable:{0} {1:>2}'.format(v.trainable,i),':',v)"
   ]
  },
  {
   "cell_type": "code",
   "execution_count": 10,
   "metadata": {},
   "outputs": [],
   "source": [
    "# for i,v in enumerate(tf.trainable_variables()):\n",
    "#     print('trainable:{0} {1:>2}'.format(v.trainable,i),':',v)"
   ]
  },
  {
   "cell_type": "code",
   "execution_count": 9,
   "metadata": {},
   "outputs": [],
   "source": [
    "# for i,v in enumerate(vgg19net.VARIABLE_list):\n",
    "#     print('trainable:{0} {1:>2}'.format(v.trainable,i),':',v)"
   ]
  },
  {
   "cell_type": "code",
   "execution_count": 3,
   "metadata": {},
   "outputs": [],
   "source": [
    "#     with open('./weight/all_name_list.txt', 'r') as flie:\n",
    "#         all_list = flie.readlines()\n",
    "#     all_list = list(map(lambda x: x[0:-1:1]+'.npy', all_list))\n",
    "#     [len(all_list), len(vgg19net.VARIABLE_list)]\n",
    "def read_pretrained_weight():\n",
    "    for i in tqdm(range(32)):\n",
    "        sess.run(vgg19net.VARIABLE_list[i].assign(np.load('./weight/' + f'keras_{i}.npy')))"
   ]
  },
  {
   "cell_type": "code",
   "execution_count": 4,
   "metadata": {},
   "outputs": [
    {
     "name": "stderr",
     "output_type": "stream",
     "text": [
      "100%|██████████████████████████████████████████████████████████████████████████████████| 32/32 [00:07<00:00,  2.23it/s]\n"
     ]
    }
   ],
   "source": [
    "# only run once\n",
    "read_pretrained_weight()"
   ]
  },
  {
   "cell_type": "code",
   "execution_count": 5,
   "metadata": {},
   "outputs": [],
   "source": [
    "def check_see():\n",
    "    plt.figure(figsize=(20,10))\n",
    "    for i in range(12):\n",
    "        plt.subplot(3,4,i+1)\n",
    "        see = sess.run(vgg19net.TENSOR_list[i])[0,:,:,32]\n",
    "        plt.imshow((see-see.min())/(see.max()-see.min()), cmap='gray')\n",
    "    plt.show()\n",
    "\n",
    "def load_img(path):\n",
    "    if path.split('.')[-1] == 'npy':\n",
    "        return np.load(path)\n",
    "    img    = Image.open(path).resize((img_W,img_H))\n",
    "    img_np = np.zeros((1,img_H,img_W,img_C),dtype=np.float32)\n",
    "    img_np[0,:,:,:] = img\n",
    "    img_np = (img_np-img_np.min())/(img_np.max()-img_np.min())\n",
    "    img_np = img_np - img_np.mean()\n",
    "    return img_np\n",
    "\n",
    "def save_img(path, value):\n",
    "    value = value[0]\n",
    "    value = (value - value.min())/(value.max() - value.min())\n",
    "    value = Image.fromarray((value * 255).astype(np.uint8))\n",
    "    value = ImageEnhance.Color(value).enhance(1.15)\n",
    "    value = ImageEnhance.Contrast(value).enhance(1.15)\n",
    "    value = ImageEnhance.Brightness(value).enhance(1.0)\n",
    "    value.save(path)\n",
    "\n",
    "def loss_content_func(sess, content_tensor_list):\n",
    "    def loss_single_conv(fixed_content, tensor):\n",
    "        num_C  = fixed_content.shape[3]\n",
    "        num_HW = fixed_content.shape[1]*fixed_content.shape[2]\n",
    "        return (1/(num_C*num_HW))*tf.reduce_sum(tf.pow(fixed_content-tensor,2))\n",
    "    return sum([w*loss_single_conv(sess.run(tensor), tensor) for w, tensor in content_tensor_list])\n",
    "\n",
    "def loss_style_func(sess, style_tensor_list):\n",
    "    def gram_matrix(F, num_HW, num_C):\n",
    "        F_ik = tf.reshape(F, (num_HW, num_C))\n",
    "        return tf.matmul(tf.transpose(F_ik), F_ik)\n",
    "    def loss_single_conv(fixed_content, tensor):\n",
    "        num_C  = fixed_content.shape[3]\n",
    "        num_HW = fixed_content.shape[1]*fixed_content.shape[2]\n",
    "        fixed_content_gram = gram_matrix(fixed_content, num_HW, num_C)\n",
    "        tensor_gram = gram_matrix(tensor, num_HW, num_C)\n",
    "        return (1/(4*num_C*num_C*num_HW*num_HW))*tf.reduce_sum(tf.pow(fixed_content_gram-tensor_gram,2))\n",
    "    return sum([w*loss_single_conv(sess.run(tensor), tensor) for w, tensor in style_tensor_list])"
   ]
  },
  {
   "cell_type": "code",
   "execution_count": 212,
   "metadata": {},
   "outputs": [],
   "source": [
    "# img_content_np = load_img('content1.jpg')\n",
    "# _ = sess.run(img.assign(img_content_np))\n",
    "# check_see()\n",
    "# img_style_np = load_img('style5.jpg')\n",
    "# _ = sess.run(img.assign(img_style_np))\n",
    "# check_see()"
   ]
  },
  {
   "cell_type": "code",
   "execution_count": 6,
   "metadata": {},
   "outputs": [
    {
     "name": "stdout",
     "output_type": "stream",
     "text": [
      " 0 : Tensor(\"conv1_0/Relu:0\", shape=(1, 500, 800, 64), dtype=float32)\n",
      " 1 : Tensor(\"conv1_1/Relu:0\", shape=(1, 500, 800, 64), dtype=float32)\n",
      " 2 : Tensor(\"conv2_0/Relu:0\", shape=(1, 250, 400, 128), dtype=float32)\n",
      " 3 : Tensor(\"conv2_1/Relu:0\", shape=(1, 250, 400, 128), dtype=float32)\n",
      " 4 : Tensor(\"conv3_0/Relu:0\", shape=(1, 125, 200, 256), dtype=float32)\n",
      " 5 : Tensor(\"conv3_1/Relu:0\", shape=(1, 125, 200, 256), dtype=float32)\n",
      " 6 : Tensor(\"conv3_2/Relu:0\", shape=(1, 125, 200, 256), dtype=float32)\n",
      " 7 : Tensor(\"conv3_3/Relu:0\", shape=(1, 125, 200, 256), dtype=float32)\n",
      " 8 : Tensor(\"conv4_0/Relu:0\", shape=(1, 63, 100, 512), dtype=float32)\n",
      " 9 : Tensor(\"conv4_1/Relu:0\", shape=(1, 63, 100, 512), dtype=float32)\n",
      "10 : Tensor(\"conv4_2/Relu:0\", shape=(1, 63, 100, 512), dtype=float32)\n",
      "11 : Tensor(\"conv4_3/Relu:0\", shape=(1, 63, 100, 512), dtype=float32)\n",
      "12 : Tensor(\"conv5_0/Relu:0\", shape=(1, 32, 50, 512), dtype=float32)\n",
      "13 : Tensor(\"conv5_1/Relu:0\", shape=(1, 32, 50, 512), dtype=float32)\n",
      "14 : Tensor(\"conv5_2/Relu:0\", shape=(1, 32, 50, 512), dtype=float32)\n",
      "15 : Tensor(\"conv5_3/Relu:0\", shape=(1, 32, 50, 512), dtype=float32)\n"
     ]
    }
   ],
   "source": [
    "for i,o in enumerate(vgg19net.TENSOR_list):\n",
    "    print('{0:>2}'.format(i),':',o)"
   ]
  },
  {
   "cell_type": "code",
   "execution_count": null,
   "metadata": {},
   "outputs": [],
   "source": []
  },
  {
   "cell_type": "markdown",
   "metadata": {},
   "source": [
    "# training:"
   ]
  },
  {
   "cell_type": "code",
   "execution_count": null,
   "metadata": {},
   "outputs": [],
   "source": []
  },
  {
   "cell_type": "code",
   "execution_count": null,
   "metadata": {},
   "outputs": [],
   "source": []
  },
  {
   "cell_type": "code",
   "execution_count": null,
   "metadata": {},
   "outputs": [],
   "source": []
  },
  {
   "cell_type": "code",
   "execution_count": null,
   "metadata": {},
   "outputs": [],
   "source": []
  },
  {
   "cell_type": "code",
   "execution_count": null,
   "metadata": {},
   "outputs": [],
   "source": []
  },
  {
   "cell_type": "code",
   "execution_count": null,
   "metadata": {},
   "outputs": [],
   "source": []
  },
  {
   "cell_type": "code",
   "execution_count": null,
   "metadata": {},
   "outputs": [],
   "source": []
  },
  {
   "cell_type": "code",
   "execution_count": null,
   "metadata": {},
   "outputs": [],
   "source": []
  }
 ],
 "metadata": {
  "kernelspec": {
   "display_name": "Python 3",
   "language": "python",
   "name": "python3"
  },
  "language_info": {
   "codemirror_mode": {
    "name": "ipython",
    "version": 3
   },
   "file_extension": ".py",
   "mimetype": "text/x-python",
   "name": "python",
   "nbconvert_exporter": "python",
   "pygments_lexer": "ipython3",
   "version": "3.6.7"
  }
 },
 "nbformat": 4,
 "nbformat_minor": 2
}
